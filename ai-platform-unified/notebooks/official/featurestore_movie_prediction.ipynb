{
  "nbformat": 4,
  "nbformat_minor": 0,
  "metadata": {
    "colab": {
      "name": "featurestore-movie-prediction.ipynb",
      "provenance": [],
      "collapsed_sections": [
        "ze4-nDLfK4pw"
      ],
      "toc_visible": true
    },
    "kernelspec": {
      "display_name": "Python 3",
      "name": "python3"
    }
  },
  "cells": [
    {
      "cell_type": "code",
      "metadata": {
        "id": "ur8xi4C7S06n"
      },
      "source": [
        "# Copyright 2021 Google LLC\n",
        "#\n",
        "# Licensed under the Apache License, Version 2.0 (the \"License\");\n",
        "# you may not use this file except in compliance with the License.\n",
        "# You may obtain a copy of the License at\n",
        "#\n",
        "#     https://www.apache.org/licenses/LICENSE-2.0\n",
        "#\n",
        "# Unless required by applicable law or agreed to in writing, software\n",
        "# distributed under the License is distributed on an \"AS IS\" BASIS,\n",
        "# WITHOUT WARRANTIES OR CONDITIONS OF ANY KIND, either express or implied.\n",
        "# See the License for the specific language governing permissions and\n",
        "# limitations under the License."
      ],
      "execution_count": null,
      "outputs": []
    },
    {
      "cell_type": "markdown",
      "metadata": {
        "id": "JAPoU8Sm5E6e"
      },
      "source": [
        "<table align=\"left\">\n",
        "\n",
        "  <td>\n",
        "    <a href=\"https://colab.research.google.com/github/GoogleCloudPlatform/ai-platform-samples/blob/master/ai-platform-unified/notebooks/notebook_template.ipynb\"\">\n",
        "      <img src=\"https://cloud.google.com/ml-engine/images/colab-logo-32px.png\" alt=\"Colab logo\"> Run in Colab\n",
        "    </a>\n",
        "  </td>\n",
        "  <td>\n",
        "    <a href=\"https://github.com/GoogleCloudPlatform/ai-platform-samples/blob/master/ai-platform-unified/notebooks/notebook_template.ipynb\">\n",
        "      <img src=\"https://cloud.google.com/ml-engine/images/github-logo-32px.png\" alt=\"GitHub logo\">\n",
        "      View on GitHub\n",
        "    </a>\n",
        "  </td>\n",
        "</table>"
      ]
    },
    {
      "cell_type": "markdown",
      "metadata": {
        "id": "tvgnzT1CKxrO"
      },
      "source": [
        "## Overview\n",
        "\n",
        "This Colab introduces Featurestore, a managed cloud service for machine learning engineers and data scientists to store, serve manage and share machine learning features at scale.\n",
        "\n",
        "This Colab assumes that you understand basic Google cloud concepts such as [Project](https://cloud.google.com/storage/docs/projects), [Storage](https://cloud.google.com/storage) and [AI Platform (Unified)](https://cloud.google.com/ai-platform-unified/docs). Some machine learning knowledge is also helpful but not required.\n",
        "\n",
        "### Dataset\n",
        "\n",
        "This Colab uses the movie recommentation as an example throughout all the sessions. The task is to train a model to predict if a user is going to watch a movie and serve this model online. \n",
        "\n",
        "### Objective\n",
        "\n",
        "In this notebook, you will learn how to:\n",
        "\n",
        "    * How to import your features into the Featurestore.\n",
        "    * How to serve online prediction request using the imported features.\n",
        "    * How to access imported features in offline jobs, such as training jobs.\n",
        "\n",
        "### Costs \n",
        "\n",
        "This tutorial uses billable components of Google Cloud:\n",
        "\n",
        "* AI Platform (Unified)\n",
        "* Cloud Storage\n",
        "* Cloud Bigtable\n",
        "\n",
        "Learn about [AI Platform (Unified)\n",
        "pricing](https://cloud.google.com/ai-platform-unified/pricing) and [Cloud Storage\n",
        "pricing](https://cloud.google.com/storage/pricing), and use the [Pricing\n",
        "Calculator](https://cloud.google.com/products/calculator/)\n",
        "to generate a cost estimate based on your projected usage."
      ]
    },
    {
      "cell_type": "markdown",
      "metadata": {
        "id": "ze4-nDLfK4pw"
      },
      "source": [
        "### Set up your local development environment\n",
        "\n",
        "**If you are using Colab or AI Platform Notebooks**, your environment already meets\n",
        "all the requirements to run this notebook. You can skip this step."
      ]
    },
    {
      "cell_type": "markdown",
      "metadata": {
        "id": "gCuSR8GkAgzl"
      },
      "source": [
        "**Otherwise**, make sure your environment meets this notebook's requirements.\n",
        "You need the following:\n",
        "\n",
        "* The Google Cloud SDK\n",
        "* Git\n",
        "* Python 3\n",
        "* virtualenv\n",
        "* Jupyter notebook running in a virtual environment with Python 3\n",
        "\n",
        "The Google Cloud guide to [Setting up a Python development\n",
        "environment](https://cloud.google.com/python/setup) and the [Jupyter\n",
        "installation guide](https://jupyter.org/install) provide detailed instructions\n",
        "for meeting these requirements. The following steps provide a condensed set of\n",
        "instructions:\n",
        "\n",
        "1. [Install and initialize the Cloud SDK.](https://cloud.google.com/sdk/docs/)\n",
        "\n",
        "1. [Install Python 3.](https://cloud.google.com/python/setup#installing_python)\n",
        "\n",
        "1. [Install\n",
        "   virtualenv](https://cloud.google.com/python/setup#installing_and_using_virtualenv)\n",
        "   and create a virtual environment that uses Python 3. Activate the virtual environment.\n",
        "\n",
        "1. To install Jupyter, run `pip install jupyter` on the\n",
        "command-line in a terminal shell.\n",
        "\n",
        "1. To launch Jupyter, run `jupyter notebook` on the command-line in a terminal shell.\n",
        "\n",
        "1. Open this notebook in the Jupyter Notebook Dashboard."
      ]
    },
    {
      "cell_type": "markdown",
      "metadata": {
        "id": "i7EUnXsZhAGF"
      },
      "source": [
        "### Install additional packages\n",
        "\n",
        "For this Colab, you need the AI Platform SDK."
      ]
    },
    {
      "cell_type": "code",
      "metadata": {
        "id": "wyy5Lbnzg5fi"
      },
      "source": [
        "# Uninstall previous version of google-cloud-aiplatform SDK, if any.\n",
        "!pip uninstall google-cloud-aiplatform -y\n",
        "# Install the latest public release version\n",
        "# !pip install -U google-cloud-aiplatform\n",
        "# Install the testing version\n",
        "!pip install git+https://github.com/googleapis/python-aiplatform.git@main-test"
      ],
      "execution_count": null,
      "outputs": []
    },
    {
      "cell_type": "markdown",
      "metadata": {
        "id": "hhq5zEbGg0XX"
      },
      "source": [
        "### Restart the kernel\n",
        "\n",
        "After you install the SDK, you need to restart the notebook kernel so it can find the packages. You can restart kernel from *Kernel -> Restart Kernel*, or running the following:"
      ]
    },
    {
      "cell_type": "code",
      "metadata": {
        "id": "EzrelQZ22IZj"
      },
      "source": [
        "# Automatically restart kernel after installs\n",
        "import os\n",
        "\n",
        "if not os.getenv(\"IS_TESTING\"):\n",
        "    # Automatically restart kernel after installs\n",
        "    import IPython\n",
        "\n",
        "    app = IPython.Application.instance()\n",
        "    app.kernel.do_shutdown(True)"
      ],
      "execution_count": null,
      "outputs": []
    },
    {
      "cell_type": "markdown",
      "metadata": {
        "id": "Ml90dxfxhF-_"
      },
      "source": [
        "Verify that the SDK has been successfully installed:"
      ]
    },
    {
      "cell_type": "code",
      "metadata": {
        "id": "KfkadAB2hD2q"
      },
      "source": [
        "!pip freeze | grep aiplatform"
      ],
      "execution_count": null,
      "outputs": []
    },
    {
      "cell_type": "markdown",
      "metadata": {
        "id": "lWEdiXsJg0XY"
      },
      "source": [
        "## Before you begin\n",
        "\n",
        "### Select a GPU runtime\n",
        "\n",
        "**Make sure you're running this notebook in a GPU runtime if you have that option. In Colab, select \"Runtime --> Change runtime type > GPU\"**"
      ]
    },
    {
      "cell_type": "markdown",
      "metadata": {
        "id": "BF1j6f9HApxa"
      },
      "source": [
        "### Set up your Google Cloud project\n",
        "\n",
        "**The following steps are required, regardless of your notebook environment.**\n",
        "\n",
        "1. [Select or create a Google Cloud project](https://console.cloud.google.com/cloud-resource-manager). When you first create an account, you get a $300 free credit towards your compute/storage costs.\n",
        "\n",
        "1. [Make sure that billing is enabled for your project](https://cloud.google.com/billing/docs/how-to/modify-project).\n",
        "\n",
        "1. [Enable the AI Platform (Unified) API and Compute Engine API](https://console.cloud.google.com/flows/enableapi?apiid=aiplatform.googleapis.com,compute_component). {TODO: Update the APIs needed for your tutorial. Edit the API names, and update the link to append the API IDs, separating each one with a comma. For example, container.googleapis.com,cloudbuild.googleapis.com}\n",
        "\n",
        "1. If you are running this notebook locally, you will need to install the [Cloud SDK](https://cloud.google.com/sdk).\n",
        "\n",
        "1. Enter your project ID in the cell below. Then run the cell to make sure the\n",
        "Cloud SDK uses the right project for all the commands in this notebook.\n",
        "\n",
        "**Note**: Jupyter runs lines prefixed with `!` as shell commands, and it interpolates Python variables prefixed with `$` into these commands."
      ]
    },
    {
      "cell_type": "markdown",
      "metadata": {
        "id": "WReHDGG5g0XY"
      },
      "source": [
        "#### Set your project ID\n",
        "\n",
        "**If you don't know your project ID**, you may be able to get your project ID using `gcloud`."
      ]
    },
    {
      "cell_type": "code",
      "metadata": {
        "id": "oM1iC_MfAts1"
      },
      "source": [
        "PROJECT_ID = \"\"\n",
        "\n",
        "# Get your Google Cloud project ID from gcloud\n",
        "if not os.getenv(\"IS_TESTING\"):\n",
        "    shell_output=!gcloud config list --format 'value(core.project)' 2>/dev/null\n",
        "    PROJECT_ID = shell_output[0]\n",
        "    print(\"Project ID: \", PROJECT_ID)"
      ],
      "execution_count": null,
      "outputs": []
    },
    {
      "cell_type": "markdown",
      "metadata": {
        "id": "qJYoRfYng0XZ"
      },
      "source": [
        "Otherwise, set your project ID here."
      ]
    },
    {
      "cell_type": "code",
      "metadata": {
        "id": "riG_qUokg0XZ"
      },
      "source": [
        "if PROJECT_ID == \"\" or PROJECT_ID is None:\n",
        "    PROJECT_ID = \"python-docs-samples-tests\"  # @param {type:\"string\"}"
      ],
      "execution_count": null,
      "outputs": []
    },
    {
      "cell_type": "markdown",
      "metadata": {
        "id": "dr--iN2kAylZ"
      },
      "source": [
        "### Authenticate your Google Cloud account\n",
        "\n",
        "**If you are using AI Platform Notebooks**, your environment is already\n",
        "authenticated. Skip this step."
      ]
    },
    {
      "cell_type": "markdown",
      "metadata": {
        "id": "sBCra4QMA2wR"
      },
      "source": [
        "**If you are using Colab**, run the cell below and follow the instructions\n",
        "when prompted to authenticate your account via oAuth.\n",
        "\n",
        "**Otherwise**, follow these steps:\n",
        "\n",
        "1. In the Cloud Console, go to the [**Create service account key**\n",
        "   page](https://console.cloud.google.com/apis/credentials/serviceaccountkey).\n",
        "\n",
        "2. Click **Create service account**.\n",
        "\n",
        "3. In the **Service account name** field, enter a name, and\n",
        "   click **Create**.\n",
        "\n",
        "4. In the **Grant this service account access to project** section, click the **Role** drop-down list. Type \"AI Platform\"\n",
        "into the filter box, and select\n",
        "   **AI Platform Administrator**. Type \"Storage Object Admin\" into the filter box, and select **Storage Object Admin**.\n",
        "\n",
        "5. Click *Create*. A JSON file that contains your key downloads to your\n",
        "local environment.\n",
        "\n",
        "6. Enter the path to your service account key as the\n",
        "`GOOGLE_APPLICATION_CREDENTIALS` variable in the cell below and run the cell."
      ]
    },
    {
      "cell_type": "code",
      "metadata": {
        "id": "PyQmSRbKA8r-"
      },
      "source": [
        "import os\n",
        "import sys\n",
        "\n",
        "# If you are running this notebook in Colab, run this cell and follow the\n",
        "# instructions to authenticate your GCP account. This provides access to your\n",
        "# Cloud Storage bucket and lets you submit training jobs and prediction\n",
        "# requests.\n",
        "\n",
        "# If on AI Platform, then don't execute this code\n",
        "if not os.path.exists(\"/opt/deeplearning/metadata/env_version\"):\n",
        "    if \"google.colab\" in sys.modules:\n",
        "        from google.colab import auth as google_auth\n",
        "\n",
        "        google_auth.authenticate_user()\n",
        "\n",
        "    # If you are running this notebook locally, replace the string below with the\n",
        "    # path to your service account key and run this cell to authenticate your GCP\n",
        "    # account.\n",
        "    elif not os.getenv(\"IS_TESTING\"):\n",
        "        %env GOOGLE_APPLICATION_CREDENTIALS ''"
      ],
      "execution_count": null,
      "outputs": []
    },
    {
      "cell_type": "markdown",
      "metadata": {
        "id": "gAL9Y4VTOLT1"
      },
      "source": [
        "## Prepare for output table\n",
        "\n",
        "You need a BigQuery dataset to host the output data in `us-central1`: on the [BigQuery console](https://console.cloud.google.com/bigquery), click the `CREATE DATASET` button. Note that it's **very important** to choose the correct location, instead of using default location, as follows:\n",
        "\n"
      ]
    },
    {
      "cell_type": "markdown",
      "metadata": {
        "id": "QdXSjujx_qB_"
      },
      "source": [
        "![loc.png](data:image/png;base64,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)"
      ]
    },
    {
      "cell_type": "markdown",
      "metadata": {
        "id": "3WysnTwtAsUA"
      },
      "source": [
        "Then input the name of the dataset you just created and specified the name of the table you want to store the output later. \n",
        "\n",
        "**Make sure that the table name does NOT already exist**"
      ]
    },
    {
      "cell_type": "code",
      "metadata": {
        "id": "QOaGi2PrEAwA"
      },
      "source": [
        "# Output data set, as created in the step 1.\n",
        "DESTINATION_DATA_SET = \"movie_prediction\"  #@param {type:\"string\"}\n",
        "# Output table. Make sure that the table does NOT already exist; the BatchReadFeatureValues API cannot overwrite an existing table\n",
        "DESTINATION_TABLE_NAME = \"training_data\" #@param {type:\"string\"}\n",
        "\n",
        "DESTINATION_PATTERN = \"bq://{project}.{dataset}.{table}\"\n",
        "DESTINATION_TABLE_URI = DESTINATION_PATTERN.format(project=PROJECT_ID,\n",
        "    dataset=DESTINATION_DATA_SET, table=DESTINATION_TABLE_NAME)"
      ],
      "execution_count": null,
      "outputs": []
    },
    {
      "cell_type": "markdown",
      "metadata": {
        "id": "XoEqT2Y4DJmf"
      },
      "source": [
        "### Import libraries and define constants"
      ]
    },
    {
      "cell_type": "code",
      "metadata": {
        "id": "isNzmylQXjly"
      },
      "source": [
        "# Other than project ID, location and featurestore ID and endpoints needs to be set\n",
        "LOCATION = \"us-central1\"  #@param {type:\"string\"}\n",
        "API_ENDPOINT = \"us-central1-aiplatform.googleapis.com\"  #@param {type:\"string\"}\n",
        "INPUT_CSV_FILE = \"gs://cloud-aiplatform-featurestore-us-central1/read_entity_instance.csv\""
      ],
      "execution_count": null,
      "outputs": []
    },
    {
      "cell_type": "code",
      "metadata": {
        "id": "pRUOFELefqf1"
      },
      "source": [
        "from google.api_core import operations_v1\n",
        "from google.cloud.aiplatform_v1beta1 import FeaturestoreOnlineServingServiceClient\n",
        "from google.cloud.aiplatform_v1beta1 import FeaturestoreServiceClient\n",
        "from google.cloud.aiplatform_v1beta1.types import featurestore_online_service as featurestore_online_service_pb2\n",
        "from google.cloud.aiplatform_v1beta1.types import entity_type as entity_type_pb2\n",
        "from google.cloud.aiplatform_v1beta1.types import feature as feature_pb2\n",
        "from google.cloud.aiplatform_v1beta1.types import featurestore as featurestore_pb2\n",
        "from google.cloud.aiplatform_v1beta1.types import featurestore_service as featurestore_service_pb2\n",
        "from google.cloud.aiplatform_v1beta1.types import io as io_pb2\n",
        "from google.cloud.aiplatform_v1beta1.types import FeatureSelector\n",
        "from google.cloud.aiplatform_v1beta1.types import IdMatcher\n",
        "\n",
        "# Create admin_client for CRUD and data_client for reading feature values.\n",
        "admin_client = FeaturestoreServiceClient(\n",
        "    client_options={\"api_endpoint\": API_ENDPOINT})\n",
        "data_client = FeaturestoreOnlineServingServiceClient(\n",
        "    client_options={\"api_endpoint\": API_ENDPOINT})\n",
        "\n",
        "# Represents featurestore resource path.\n",
        "BASE_RESOURCE_PATH = admin_client.common_location_path(PROJECT_ID, LOCATION)"
      ],
      "execution_count": null,
      "outputs": []
    },
    {
      "cell_type": "markdown",
      "metadata": {
        "id": "h_HmF24mBHv9"
      },
      "source": [
        "## Terminology and Concept\n",
        "\n",
        "### Featurestore Data model\n",
        "\n",
        "Feature store organizes data with the following 3 important hierarchical concepts:\n",
        "```\n",
        "Featurestore -> EntityType -> Feature\n",
        "```\n",
        "* **Featurestore**: the place to store your features\n",
        "* **EntityType**: under a Featurestore, an *EntityType* describes an object to be modeled, real one or virtual one.\n",
        "* **Feature**: under an EntityType, a *feature* describes an attribute of the EntityType\n",
        "\n",
        "In the movie prediction example, you will create a feature store called *movie_prediction*. This store has 2 entity types: *Users* and *Movies*. The Users entity has age, gender, liked genres features. The Movies entity has genres, average rating features.\n",
        "\n",
        "\n",
        "\n"
      ]
    },
    {
      "cell_type": "markdown",
      "metadata": {
        "id": "9UvxYyGUimKw"
      },
      "source": [
        "## Creating Featurestore and Defining Schema"
      ]
    },
    {
      "cell_type": "markdown",
      "metadata": {
        "id": "buQBIv3ZL3A0"
      },
      "source": [
        "### Create Featurestore\n",
        "\n",
        "The method to create a featurestore returns a\n",
        "[long-running operation](https://google.aip.dev/151) (LRO). An LRO starts an asynchronous job. LROs are returned for other API\n",
        "methods too, such as updating or deleting a featurestore. Calling\n",
        "`create_fs_lro.result()` waits for the LRO to complete."
      ]
    },
    {
      "cell_type": "code",
      "metadata": {
        "id": "FscHZa0DXjmC"
      },
      "source": [
        "FEATURESTORE_ID = \"movie_prediction\"\n",
        "create_lro = admin_client.create_featurestore(\n",
        "    featurestore_service_pb2.CreateFeaturestoreRequest(\n",
        "        parent=BASE_RESOURCE_PATH,\n",
        "        featurestore_id=FEATURESTORE_ID,\n",
        "        featurestore=featurestore_pb2.Featurestore(\n",
        "            display_name=\"Featurestore for movie prediction\",\n",
        "            online_serving_config=featurestore_pb2.Featurestore\n",
        "            .OnlineServingConfig(fixed_node_count=3))))"
      ],
      "execution_count": null,
      "outputs": []
    },
    {
      "cell_type": "code",
      "metadata": {
        "id": "57V8eVcB5VFZ"
      },
      "source": [
        "# Wait for LRO to finish and get the LRO result.\n",
        "print(create_lro.result())"
      ],
      "execution_count": null,
      "outputs": []
    },
    {
      "cell_type": "markdown",
      "metadata": {
        "id": "ag8pCQ7rNjVf"
      },
      "source": [
        "You can use [GetFeaturestore](https://cloud.google.com/ai-platform-unified/featurestore/docs/reference/rpc/google.cloud.aiplatform.v1beta1#google.cloud.aiplatform.v1beta1.FeaturestoreService.GetFeaturestore) or [ListFeaturestores](https://cloud.google.com/ai-platform-unified/featurestore/docs/reference/rpc/google.cloud.aiplatform.v1beta1#google.cloud.aiplatform.v1beta1.FeaturestoreService.ListFeaturestores) to check if the featurestore was successfully created. The following example gets the details of the featurestore.\n"
      ]
    },
    {
      "cell_type": "code",
      "metadata": {
        "id": "eKhD4q8rXjmM"
      },
      "source": [
        "admin_client.get_featurestore(name = admin_client.featurestore_path(PROJECT_ID, LOCATION, FEATURESTORE_ID))"
      ],
      "execution_count": null,
      "outputs": []
    },
    {
      "cell_type": "markdown",
      "metadata": {
        "id": "EpmJq75zXjmT"
      },
      "source": [
        "### Create Entity Type"
      ]
    },
    {
      "cell_type": "code",
      "metadata": {
        "id": "s9eZ7aJLXjmT"
      },
      "source": [
        "# Create users entity type\n",
        "users_entity_type_lro = admin_client.create_entity_type(\n",
        "    featurestore_service_pb2.CreateEntityTypeRequest(\n",
        "        parent=admin_client.featurestore_path(PROJECT_ID, LOCATION, FEATURESTORE_ID),\n",
        "        entity_type_id=\"users\", \n",
        "        entity_type=entity_type_pb2.EntityType(description=\"Users entity\")))\n",
        "\n",
        "# Similarly, wait for EntityType creation operation.\n",
        "print(users_entity_type_lro.result())"
      ],
      "execution_count": null,
      "outputs": []
    },
    {
      "cell_type": "code",
      "metadata": {
        "id": "hJqNOttvOc2a"
      },
      "source": [
        "# Create movies entity type\n",
        "movies_entity_type_lro = admin_client.create_entity_type(\n",
        "    featurestore_service_pb2.CreateEntityTypeRequest(\n",
        "        parent=admin_client.featurestore_path(PROJECT_ID, LOCATION, FEATURESTORE_ID),\n",
        "        entity_type_id=\"movies\", \n",
        "        entity_type=entity_type_pb2.EntityType(description=\"Movies entity\")))\n",
        "\n",
        "# Similarly, wait for EntityType creation operation.\n",
        "print(movies_entity_type_lro.result())"
      ],
      "execution_count": null,
      "outputs": []
    },
    {
      "cell_type": "markdown",
      "metadata": {
        "id": "FJW4q-0jO2Xf"
      },
      "source": [
        "### Create Feature"
      ]
    },
    {
      "cell_type": "code",
      "metadata": {
        "id": "ZJD7-6GFqc1z"
      },
      "source": [
        "# Create features for the 'users' entity\n",
        "admin_client.batch_create_features(\n",
        "    parent=admin_client.entity_type_path(PROJECT_ID, LOCATION, FEATURESTORE_ID, \"users\"),\n",
        "    requests=[\n",
        "        featurestore_service_pb2.CreateFeatureRequest(\n",
        "            feature=feature_pb2.Feature(\n",
        "                value_type=feature_pb2.Feature.ValueType.INT64,\n",
        "                description=\"User age\"),\n",
        "            feature_id=\"age\"),\n",
        "        featurestore_service_pb2.CreateFeatureRequest(\n",
        "            feature=feature_pb2.Feature(\n",
        "                value_type=feature_pb2.Feature.ValueType.STRING,\n",
        "                description=\"User gender\"),\n",
        "            feature_id=\"gender\"),\n",
        "        featurestore_service_pb2.CreateFeatureRequest(\n",
        "            feature=feature_pb2.Feature(\n",
        "                value_type=feature_pb2.Feature.ValueType.STRING_ARRAY,\n",
        "                description=\"An array of genres that this user liked\"),\n",
        "            feature_id=\"liked_genres\")\n",
        "    ]).result()"
      ],
      "execution_count": null,
      "outputs": []
    },
    {
      "cell_type": "code",
      "metadata": {
        "id": "tWx_wI_FS8tE"
      },
      "source": [
        "# Create features for movies type\n",
        "admin_client.batch_create_features(\n",
        "    parent=admin_client.entity_type_path(PROJECT_ID, LOCATION, FEATURESTORE_ID, \"movies\"),\n",
        "    requests=[\n",
        "        featurestore_service_pb2.CreateFeatureRequest(\n",
        "            feature=feature_pb2.Feature(\n",
        "                value_type=feature_pb2.Feature.ValueType.STRING,\n",
        "                description=\"The title of the movie\"),\n",
        "            feature_id=\"title\"),\n",
        "        featurestore_service_pb2.CreateFeatureRequest(\n",
        "            feature=feature_pb2.Feature(\n",
        "                value_type=feature_pb2.Feature.ValueType.STRING,\n",
        "                description=\"The genres of the movie\"),\n",
        "            feature_id=\"genres\"),\n",
        "        featurestore_service_pb2.CreateFeatureRequest(\n",
        "            feature=feature_pb2.Feature(\n",
        "                value_type=feature_pb2.Feature.ValueType.DOUBLE,\n",
        "                description=\"The average rating for the movie, range is [1.0-5.0]\"),\n",
        "            feature_id=\"average_rating\")\n",
        "    ]).result()"
      ],
      "execution_count": null,
      "outputs": []
    },
    {
      "cell_type": "markdown",
      "metadata": {
        "id": "xUVOzrAb1AFX"
      },
      "source": [
        "## Search created features\n",
        "\n",
        "While the [ListFeatures](https://cloud.google.com/ai-platform-unified/featurestore/docs/reference/rpc/google.cloud.aiplatform.v1beta1#google.cloud.aiplatform.v1beta1.FeaturestoreService.ListFeatures) method allows you to easily view all features of a single\n",
        "entity type, the [SearchFeatures](https://cloud.google.com/ai-platform-unified/featurestore/docs/reference/rpc/google.cloud.aiplatform.v1beta1#google.cloud.aiplatform.v1beta1.FeaturestoreService.SearchFeatures) method searches across all featurestores\n",
        "and entity types in a given location (such as `us-central1`). This can help you discover features that were created by someone else.\n",
        "\n",
        "You can query based on feature properties including feature ID, entity type ID,\n",
        "and feature description. You can also limit results by filtering on a specific\n",
        "featurestore, feature value type, and/or labels."
      ]
    },
    {
      "cell_type": "code",
      "metadata": {
        "id": "Hs_7T_hs17ew"
      },
      "source": [
        "# Search for all features across all featurestores.\n",
        "list(admin_client.search_features(location=BASE_RESOURCE_PATH))"
      ],
      "execution_count": null,
      "outputs": []
    },
    {
      "cell_type": "markdown",
      "metadata": {
        "id": "jcxsiBUiIyvE"
      },
      "source": [
        "Now, narrow down the search to features that are of type `DOUBLE`"
      ]
    },
    {
      "cell_type": "code",
      "metadata": {
        "id": "a9ovJSyEI4OZ"
      },
      "source": [
        "# Search for all features with value type `DOUBLE`\n",
        "list(\n",
        "    admin_client.search_features(\n",
        "        featurestore_service_pb2.SearchFeaturesRequest(\n",
        "            location=BASE_RESOURCE_PATH, query=\"value_type=DOUBLE\")))"
      ],
      "execution_count": null,
      "outputs": []
    },
    {
      "cell_type": "markdown",
      "metadata": {
        "id": "Wtr9tvH6JAOY"
      },
      "source": [
        "Or, limit the search results to features with specific keywords in their ID and type."
      ]
    },
    {
      "cell_type": "code",
      "metadata": {
        "id": "3G1mNV1uJFBC"
      },
      "source": [
        "# Filter on feature value type and keywords.\n",
        "list(\n",
        "    admin_client.search_features(\n",
        "        featurestore_service_pb2.SearchFeaturesRequest(\n",
        "            location=BASE_RESOURCE_PATH, query=\"feature_id:title AND value_type=STRING\")))"
      ],
      "execution_count": null,
      "outputs": []
    },
    {
      "cell_type": "markdown",
      "metadata": {
        "id": "K3n5XdK8Xjmw"
      },
      "source": [
        "## Import Feature Values\n",
        "\n",
        "You need to import feature values before you can use them for online/offline serving. In this step, you will learn how to import feature values by calling the ImportFeatureValues API using the python SDK.\n",
        "\n"
      ]
    },
    {
      "cell_type": "markdown",
      "metadata": {
        "id": "BlqJ-QdTcs6W"
      },
      "source": [
        "### Source Data Format and Layout\n",
        "\n",
        "As mentioned above, BigQuery table/Avro/CSV are supported. No matter what format you are using, each imported entity *must* have an ID on it, besides features; also, each entity can *optionally* have an timestamp on it, sepecifying when the feature values are generated. This Colab uses Avro as an input, located at this public-available [bucket](https://pantheon.corp.google.com/storage/browser/cloud-samples-data/ai-platform-unified/datasets/featurestore;tab=objects?project=storage-samples&prefix=&forceOnObjectsSortingFiltering=false). The Avro schemas are as follows:\n",
        "\n",
        "**For the Users entity**:\n",
        "```\n",
        "schema = {\n",
        "  \"type\": \"record\",\n",
        "  \"name\": \"User\",\n",
        "  \"fields\": [\n",
        "      {\n",
        "       \"name\":\"user_id\",\n",
        "       \"type\":[\"null\",\"string\"]\n",
        "      },\n",
        "      {\n",
        "       \"name\":\"age\",\n",
        "       \"type\":[\"null\",\"long\"]\n",
        "      },\n",
        "      {\n",
        "       \"name\":\"gender\",\n",
        "       \"type\":[\"null\",\"string\"]\n",
        "      },\n",
        "      {\n",
        "       \"name\":\"liked_genres\",\n",
        "       \"type\":{\"type\":\"array\",\"items\":\"string\"}\n",
        "      },\n",
        "      {\n",
        "       \"name\":\"update_time\",\n",
        "       \"type\":[\"null\",{\"type\":\"long\",\"logicalType\":\"timestamp-micros\"}]\n",
        "      },\n",
        "  ]\n",
        " }\n",
        "```\n",
        "\n",
        "**For the Movies entity**\n",
        "```\n",
        "schema = {\n",
        " \"type\": \"record\",\n",
        " \"name\": \"Movie\",\n",
        " \"fields\": [\n",
        "     {\n",
        "      \"name\":\"movie_id\",\n",
        "      \"type\":[\"null\",\"string\"]\n",
        "     },\n",
        "     {\n",
        "      \"name\":\"average_rating\",\n",
        "      \"type\":[\"null\",\"double\"]\n",
        "     },\n",
        "     {\n",
        "      \"name\":\"title\",\n",
        "      \"type\":[\"null\",\"string\"]\n",
        "     },\n",
        "     {\n",
        "      \"name\":\"genres\",\n",
        "      \"type\":[\"null\",\"string\"]\n",
        "     },\n",
        "     {\n",
        "      \"name\":\"update_time\",\n",
        "      \"type\":[\"null\",{\"type\":\"long\",\"logicalType\":\"timestamp-micros\"}]\n",
        "     },\n",
        " ]\n",
        "}\n",
        "```"
      ]
    },
    {
      "cell_type": "markdown",
      "metadata": {
        "id": "m7DyDa6chbJx"
      },
      "source": [
        "### Import feature values for Users\n",
        "\n",
        "When importing, specify the following in your request:\n",
        "\n",
        "*   Data source format: currently support BigQuery table/Avro/CSV\n",
        "*   Data source URL\n",
        "*   Destination: feature store/entity types/features to be imported\n",
        "\n"
      ]
    },
    {
      "cell_type": "code",
      "metadata": {
        "id": "RUhm6-yzXjmx"
      },
      "source": [
        "import_users_request = featurestore_service_pb2.ImportFeatureValuesRequest(\n",
        "    entity_type=admin_client.entity_type_path(PROJECT_ID, LOCATION,\n",
        "                                              FEATURESTORE_ID, \"users\"),\n",
        "    avro_source=io_pb2.AvroSource(\n",
        "        # Source\n",
        "        gcs_source=io_pb2.GcsSource(uris=[\"gs://cloud-samples-data-us/ai-platform-unified/datasets/featurestore/users.avro\"])\n",
        "    ),\n",
        "    entity_id_field=\"user_id\",\n",
        "    feature_specs=[\n",
        "        # Features\n",
        "        featurestore_service_pb2.ImportFeatureValuesRequest.FeatureSpec(\n",
        "            id=\"age\"),\n",
        "        featurestore_service_pb2.ImportFeatureValuesRequest.FeatureSpec(\n",
        "            id=\"gender\"),\n",
        "        featurestore_service_pb2.ImportFeatureValuesRequest.FeatureSpec(\n",
        "            id=\"liked_genres\"),\n",
        "    ],\n",
        "    feature_time_field=\"update_time\",\n",
        "    worker_count=10)"
      ],
      "execution_count": null,
      "outputs": []
    },
    {
      "cell_type": "code",
      "metadata": {
        "id": "qwznuUiwjwJF"
      },
      "source": [
        "# Start to import, will take a couple of minutes\n",
        "ingestion_lro = admin_client.import_feature_values(import_users_request)"
      ],
      "execution_count": null,
      "outputs": []
    },
    {
      "cell_type": "code",
      "metadata": {
        "id": "_sDl3ZcrF64T"
      },
      "source": [
        "# Polls for the LRO status and prints when the LRO has completed\n",
        "ingestion_lro.result()"
      ],
      "execution_count": null,
      "outputs": []
    },
    {
      "cell_type": "markdown",
      "metadata": {
        "id": "laXdJPIqkLJO"
      },
      "source": [
        "### Import feature values for Movies\n",
        "\n",
        "Similarly, import feature values for 'movies' to the feature store.\n",
        "\n"
      ]
    },
    {
      "cell_type": "code",
      "metadata": {
        "id": "-W1lCxgDl6iR"
      },
      "source": [
        "import_movie_request = featurestore_service_pb2.ImportFeatureValuesRequest(\n",
        "    entity_type=admin_client.entity_type_path(PROJECT_ID, LOCATION,\n",
        "                                              FEATURESTORE_ID, \"movies\"),\n",
        "    avro_source=io_pb2.AvroSource(\n",
        "        gcs_source=io_pb2.GcsSource(uris=[\"gs://cloud-samples-data-us-central1/ai-platform-unified/datasets/featurestore/movies.avro\"])\n",
        "    ),\n",
        "    entity_id_field=\"movie_id\",\n",
        "    feature_specs=[\n",
        "        featurestore_service_pb2.ImportFeatureValuesRequest.FeatureSpec(\n",
        "            id=\"title\"),\n",
        "        featurestore_service_pb2.ImportFeatureValuesRequest.FeatureSpec(\n",
        "            id=\"genres\"),\n",
        "        featurestore_service_pb2.ImportFeatureValuesRequest.FeatureSpec(\n",
        "            id=\"average_rating\"),\n",
        "    ],\n",
        "    feature_time_field=\"update_time\",\n",
        "    worker_count=10)"
      ],
      "execution_count": null,
      "outputs": []
    },
    {
      "cell_type": "code",
      "metadata": {
        "id": "Q-MATtpvm3HI"
      },
      "source": [
        "# Start to import, will take a couple of minutes\n",
        "ingestion_lro = admin_client.import_feature_values(import_movie_request)"
      ],
      "execution_count": null,
      "outputs": []
    },
    {
      "cell_type": "code",
      "metadata": {
        "id": "VpaK3yRCnNnI"
      },
      "source": [
        "# Polls for the LRO status and prints when the LRO has completed\n",
        "ingestion_lro.result()"
      ],
      "execution_count": null,
      "outputs": []
    },
    {
      "cell_type": "markdown",
      "metadata": {
        "id": "9TdxPYdDXjnA"
      },
      "source": [
        "## Online serving"
      ]
    },
    {
      "cell_type": "markdown",
      "metadata": {
        "id": "ezJIMyU-XjnB"
      },
      "source": [
        "The\n",
        "[Online Serving APIs](https://cloud.google.com/ai-platform-unified/featurestore/docs/reference/rpc/google.cloud.aiplatform.v1beta1#featurestoreonlineservingservice)\n",
        "lets you serve feature values for small batches of entities. It's designed for latency-sensitive service, such as online model prediction. For example, if you have trained a model to predict if a user is going to watch"
      ]
    },
    {
      "cell_type": "markdown",
      "metadata": {
        "id": "foNB0D2aw37c"
      },
      "source": [
        "### Read one entity per request\n",
        "\n",
        "The ReadFeatureValues API is used to read feature values of one entity; hence\n",
        "its custom HTTP verb is `readFeatureValues`. By default, the API will return the\n",
        "latest value of each feature, such as the feature values with the most recent\n",
        "timestamp.\n",
        "\n",
        "To read feature values, specify the entity ID and features to read. The response\n",
        "contains a `header` and an `entity_view`. Each row of data in the `entity_view`\n",
        "contains one feature value, in the same order of features as listed in the response header."
      ]
    },
    {
      "cell_type": "code",
      "metadata": {
        "id": "3rfWqLrbXjnJ"
      },
      "source": [
        "# Fetch the following 3 features.\n",
        "feature_selector = FeatureSelector(\n",
        "    id_matcher=IdMatcher(\n",
        "        ids=[\"age\", \"gender\", \"liked_genres\"]))\n",
        "\n",
        "data_client.read_feature_values(\n",
        "    featurestore_online_service_pb2.ReadFeatureValuesRequest(\n",
        "        # Fetch from the following feature store/entity type\n",
        "        entity_type=admin_client.entity_type_path(PROJECT_ID, LOCATION,\n",
        "                                                  FEATURESTORE_ID, \"users\"),\n",
        "        # Fetch the user features whose ID is \"alice\"\n",
        "        entity_id=\"alice\",\n",
        "        feature_selector=feature_selector))"
      ],
      "execution_count": null,
      "outputs": []
    },
    {
      "cell_type": "markdown",
      "metadata": {
        "id": "oYk83Zt9xF8m"
      },
      "source": [
        "### Read multiple entities per request\n",
        "\n",
        "To read feature values from multiple entities, use the\n",
        "StreamingReadFeatureValues API, which is almost identical to the previous\n",
        "ReadFeatureValues API. Note that, we recommend fetching only a small number of entities when using this API, due to its latency-sensitive nature."
      ]
    },
    {
      "cell_type": "code",
      "metadata": {
        "id": "BIJFcIIHULOd"
      },
      "source": [
        "# Read the same set of features as above, but for multiple entities.\n",
        "response_stream = data_client.streaming_read_feature_values(\n",
        "    featurestore_online_service_pb2.StreamingReadFeatureValuesRequest(\n",
        "        entity_type=admin_client.entity_type_path(PROJECT_ID, LOCATION,\n",
        "                                                  FEATURESTORE_ID, \"users\"),\n",
        "        entity_ids=[\"alice\", \"bob\"],\n",
        "        feature_selector=feature_selector))"
      ],
      "execution_count": null,
      "outputs": []
    },
    {
      "cell_type": "code",
      "metadata": {
        "id": "NFrVLiHyUj2l"
      },
      "source": [
        "# Iterate and process response. Note the first one is always the header only.\n",
        "for response in response_stream:\n",
        "  print(response)"
      ],
      "execution_count": null,
      "outputs": []
    },
    {
      "cell_type": "markdown",
      "metadata": {
        "id": "Sds42j8ZsCzS"
      },
      "source": [
        "Now that you have learned how to featch imported feature values for online serving, the next step is learning how to use imported feature values for offline use cases."
      ]
    },
    {
      "cell_type": "markdown",
      "metadata": {
        "id": "WpvhPAYxD-Ml"
      },
      "source": [
        "## Batch Serving\n",
        "\n",
        "Batch Serving is used to fetch a large batch of feature values for high-throughput, typically for training a model or batch prediction. In this section, you will learn how to prepare for training examples by calling the BatchReadFeatureValues API."
      ]
    },
    {
      "cell_type": "markdown",
      "metadata": {
        "id": "tPzAGvqJHh3B"
      },
      "source": [
        "### Use case\n",
        "\n",
        "**The task** is to prepare for a training dataset to train a model, which predicts if a given user will watch a given movie. To achieve this, you need 2 sets of input:\n",
        "\n",
        "*   Features: you already imported into the feature store.\n",
        "*   Labels: the groud-truth data recorded that user X has watched movie Y.\n",
        "\n",
        "\n",
        "\n",
        "To be more specific, the ground-truth observation is described in Table 1 and the desired training dataset is described in Table 2. Here,\n",
        "we use the `age`, `gender` and `liked_genres` features from `users` and\n",
        "the `genres` and `average_rating` features from `movies`. Note that only positive examples are in these 2 tables, i.e., you can imagine there is a label column in this table whose values are all `True`.\n",
        "\n",
        "BatchReadFeatureValues API takes Table 1 as\n",
        "input, together with the imported feature values, and returns Table 2 for training.\n",
        "\n",
        "<h4 align=\"center\">Table 1. Ground-truth Data</h4>\n",
        "\n",
        "users | movies | timestamp            \n",
        "----- | -------- | -------------------- \n",
        "alice  | Cinema Paradiso     | 2019-11-01T00:00:00Z \n",
        "bob  | The Shining     | 2019-11-15T18:09:43Z \n",
        "...   | ...      | ...     \n",
        "\n",
        "\n",
        "<h4 align=\"center\">Table 2. Expected Training Data Generated by Batch Read API (Positive Samples)</h4>\n",
        "\n",
        "timestamp            | entity_type_users | age | gender | liked_genres | entity_type_movies | genres | average_rating  \n",
        "-------------------- | ----------------- | --------------- | ---------------- | -------------------- | -------- | --------- | ----- \n",
        "2019-11-01T00:00:00Z | bob              | 35        | M                | [Action, Crime]                 | The Shining | Horror | 4.8 \n",
        "2019-11-01T00:00:00Z | alice             | 55        | F                | [Drama, Comedy]                 | Cinema Paradiso | Romance | 4.5 \n",
        "... | ... | ... | ... | ... | ... | ... | ... \n",
        "             "
      ]
    },
    {
      "cell_type": "markdown",
      "metadata": {
        "id": "hKwWGg2i4a4G"
      },
      "source": [
        "#### Why timestamp?\n",
        "\n",
        "Note that there is a `timestamp` column in Table 2. This indicates the time when the ground-truth was observed. This is to avoid data inconsistency.\n",
        "\n",
        "For example, the 1st row of Table 2 indicates that user `alice` watched movie `Cinema Paradiso` on `2019-11-01T00:00:00Z`. The feature store keeps feature values for all timestamps but fetches feature values *only* at the given timestamp during batch serving. For example, on 2019-11-01 alice might be 54 years old, but now alice might be 56; feature store returns `age=54` for alice, instead of `age=56` in the training data, because that is the value of the feature at the observation time.\n"
      ]
    },
    {
      "cell_type": "markdown",
      "metadata": {
        "id": "W8dLJ9nuDFgI"
      },
      "source": [
        "### Batch Read Feature Values\n",
        "\n",
        "Assemble the request which specify the following info:\n",
        "\n",
        "*   Where is the label data, i.e., Table 1.\n",
        "*   Which features are read, i.e., the column names in Table 2.\n",
        "\n"
      ]
    },
    {
      "cell_type": "code",
      "metadata": {
        "id": "7IyoXHY2ECnh"
      },
      "source": [
        "batch_serving_request = featurestore_service_pb2.BatchReadFeatureValuesRequest(\n",
        "    # featurestore info\n",
        "    featurestore=admin_client.featurestore_path(PROJECT_ID, LOCATION,\n",
        "                                                FEATURESTORE_ID),\n",
        "    # URL for the label data, i.e., Table 1.\n",
        "    csv_read_instances=io_pb2.CsvSource(\n",
        "        gcs_source=io_pb2.GcsSource(uris=[INPUT_CSV_FILE])),\n",
        "    destination=featurestore_service_pb2.FeatureValueDestination(\n",
        "        bigquery_destination=io_pb2.BigQueryDestination(\n",
        "            # Output to BigQuery table created earlier\n",
        "            output_uri=DESTINATION_TABLE_URI)),\n",
        "    entity_type_specs=[\n",
        "        featurestore_service_pb2.BatchReadFeatureValuesRequest.EntityTypeSpec(\n",
        "            # Read the 'age', 'gender' and 'liked_genres' features from the 'users' entity\n",
        "            entity_type_id=\"users\", \n",
        "            feature_selector=FeatureSelector(\n",
        "                id_matcher=IdMatcher(ids=[\n",
        "                    # features, use \"*\" if you want to select all features within this entity type\n",
        "                    \"age\",  \"gender\", \"liked_genres\"\n",
        "                ]))),\n",
        "        featurestore_service_pb2.BatchReadFeatureValuesRequest.EntityTypeSpec(\n",
        "            # Read the 'average_rating' and 'genres' feature values of the 'movies' entity\n",
        "            entity_type_id=\"movies\",\n",
        "            feature_selector=FeatureSelector(\n",
        "                id_matcher=IdMatcher(\n",
        "                    ids=[\"average_rating\", \"genres\"])))\n",
        "    ])"
      ],
      "execution_count": null,
      "outputs": []
    },
    {
      "cell_type": "code",
      "metadata": {
        "id": "bZO5sRCfEEWn"
      },
      "source": [
        "# Execute the batch read\n",
        "batch_serving_lro = admin_client.batch_read_feature_values(batch_serving_request)"
      ],
      "execution_count": null,
      "outputs": []
    },
    {
      "cell_type": "code",
      "metadata": {
        "id": "ouMiJqh-EFlh"
      },
      "source": [
        "# This long runing operation will poll until the batch read finishes.\n",
        "batch_serving_lro.result()"
      ],
      "execution_count": null,
      "outputs": []
    },
    {
      "cell_type": "markdown",
      "metadata": {
        "id": "3RAdjahHQ93J"
      },
      "source": [
        "After the LRO finishes, you should be able to see the result from the [BigQuery console](https://console.cloud.google.com/bigquery), in the dataset created earlier."
      ]
    },
    {
      "cell_type": "markdown",
      "metadata": {
        "id": "TpV-iwP9qw9c"
      },
      "source": [
        "## Cleaning up\n",
        "\n",
        "To clean up all Google Cloud resources used in this project, you can [delete the Google Cloud\n",
        "project](https://cloud.google.com/resource-manager/docs/creating-managing-projects#shutting_down_projects) you used for the tutorial.\n",
        "\n",
        "You can also keep the project but delete the featurestore:"
      ]
    },
    {
      "cell_type": "code",
      "metadata": {
        "id": "a2WfqhbFzQBF"
      },
      "source": [
        "admin_client.delete_featurestore(\n",
        "    name=admin_client.featurestore_path(PROJECT_ID, LOCATION,\n",
        "                                        FEATURESTORE_ID)).result()"
      ],
      "execution_count": null,
      "outputs": []
    }
  ]
}